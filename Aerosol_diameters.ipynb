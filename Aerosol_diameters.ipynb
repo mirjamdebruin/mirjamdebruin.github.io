{
  "nbformat": 4,
  "nbformat_minor": 0,
  "metadata": {
    "colab": {
      "name": "Aerosol diameters",
      "provenance": [],
      "collapsed_sections": [],
      "toc_visible": true,
      "machine_shape": "hm",
      "include_colab_link": true
    },
    "kernelspec": {
      "name": "python3",
      "display_name": "Python 3"
    }
  },
  "cells": [
    {
      "cell_type": "markdown",
      "metadata": {
        "id": "view-in-github",
        "colab_type": "text"
      },
      "source": [
        "<a href=\"https://colab.research.google.com/github/mirjamdebruin/mirjamdebruin.github.io/blob/master/Aerosol_diameters.ipynb\" target=\"_parent\"><img src=\"https://colab.research.google.com/assets/colab-badge.svg\" alt=\"Open In Colab\"/></a>"
      ]
    },
    {
      "cell_type": "code",
      "metadata": {
        "id": "KFlhGIpyDFhd",
        "colab_type": "code",
        "colab": {}
      },
      "source": [
        "import numpy as np\n",
        "import matplotlib.pyplot as plt\n",
        "import pandas as pd\n",
        "import scipy.optimize\n",
        "from tqdm import tqdm"
      ],
      "execution_count": 0,
      "outputs": []
    },
    {
      "cell_type": "code",
      "metadata": {
        "id": "qwxFWnMjZ97A",
        "colab_type": "code",
        "colab": {}
      },
      "source": [
        "l = 0.0674; #mean free path (um), air at 293 K and 101.3 kPa\n",
        "a = 1.142; #for solids\n",
        "b = 0.558; #for solids\n",
        "d_m = 1;\n",
        "gamma = 0.999; #for solids\n",
        "rho_0 = 1;\n",
        "c_c_dm = 1.15399;"
      ],
      "execution_count": 0,
      "outputs": []
    },
    {
      "cell_type": "code",
      "metadata": {
        "id": "sknlTtcIDHE5",
        "colab_type": "code",
        "colab": {}
      },
      "source": [
        "def guess_d_ve(d_m: float, initial_estimate=.1) -> float:\n",
        "  \"\"\"Give best estimate for d_ve given some d_m.\"\"\"\n",
        "  function_to_minimize = lambda d_ve: d_m / (1 + (2*l/d_m)*(a + b * np.exp( -gamma/(2*l/d_m) ) )) - d_ve * chi / ( 1 + (2*l/d_ve)*(a + b * np.exp( -gamma/(2*l/d_ve))))\n",
        "  x = scipy.optimize.fsolve(function_to_minimize, initial_estimate)\n",
        "  return x\n",
        "\n",
        "def guess_d_a(d_m: float, initial_estimate=.1) -> float:\n",
        "  \"\"\"Give best estimate for d_a given some d_m or d_v.\"\"\"\n",
        "  d_ve = guess_d_ve(d_m, initial_estimate)\n",
        "\n",
        "  function_to_minimize = lambda d_a: d_ve * np.sqrt( (1/chi) * (rho/rho_0) * (1+(2*l/d_ve) * (a+b*np.exp(-gamma/(2*l/d_ve)) )) / (1+(2*l/d_a) * (a+b*np.exp(-gamma/(2*l/d_a)) ))) - d_a\n",
        "  x = scipy.optimize.fsolve(function_to_minimize, initial_estimate)\n",
        "  return x"
      ],
      "execution_count": 0,
      "outputs": []
    },
    {
      "cell_type": "markdown",
      "metadata": {
        "id": "Pw4_e0iOZ6GB",
        "colab_type": "text"
      },
      "source": [
        "# NaCl"
      ]
    },
    {
      "cell_type": "code",
      "metadata": {
        "id": "rSxR9GSaFl84",
        "colab_type": "code",
        "colab": {}
      },
      "source": [
        "chi = 1.2; # for NaCl\n",
        "rho = 2.16; #g/mL for NaCl"
      ],
      "execution_count": 0,
      "outputs": []
    },
    {
      "cell_type": "code",
      "metadata": {
        "id": "yw5Ac6nAP94D",
        "colab_type": "code",
        "outputId": "ac2869cc-df92-4ceb-ec53-8447e4b06b8b",
        "colab": {
          "base_uri": "https://localhost:8080/",
          "height": 51
        }
      },
      "source": [
        "df_dve = pd.DataFrame([dict(d_m=d_m, d_ve=guess_d_ve(d_m, initial_estimate=d_m)[0]) for d_m in np.arange(.01, 3, .01)])\n",
        "p = np.polyfit(df_dve['d_m'], df_dve['d_ve'], 1)\n",
        "print(f'Line fitted: {p[0]}*d_ve + {p[1]}')\n",
        "\n",
        "df_da = pd.DataFrame([dict(d_m=d_m, d_a=guess_d_a(d_m, initial_estimate=d_m)[0]) for d_m in np.arange(.01, 3, .01)])\n",
        "p = np.polyfit(df_da['d_m'], df_da['d_a'], 1)\n",
        "print(f'Line fitted: {p[0]}*d_a + {p[1]}')"
      ],
      "execution_count": 6,
      "outputs": [
        {
          "output_type": "stream",
          "text": [
            "Line fitted: 0.8375653306682206*d_ve + 0.01299579611009891\n",
            "Line fitted: 1.1249288267024937*d_a + 0.04018699371761823\n"
          ],
          "name": "stdout"
        }
      ]
    },
    {
      "cell_type": "code",
      "metadata": {
        "id": "UWbkCpQ7FO_d",
        "colab_type": "code",
        "outputId": "1e3c71ca-c72d-4bce-af37-8d6a219540b4",
        "colab": {
          "base_uri": "https://localhost:8080/",
          "height": 301
        }
      },
      "source": [
        "ax = df_dve.plot('d_m', 'd_ve', marker='.', ls='', color='C1', legend='dve')\n",
        "df_da.plot('d_m', 'd_a', marker='.', ls='', color='C2', legend='da', ax=ax)\n",
        "plt.plot([0, 3], [0,3], label='y=x')\n",
        "plt.plot([0, 3], [0, 3*np.sqrt(rho)], color='C3', label='da sphere', ls=':')\n",
        "plt.legend()\n",
        "plt.xlim(0, 3)\n",
        "plt.ylim(0, 3)\n",
        "plt.ylabel('d_ve/d_a')"
      ],
      "execution_count": 7,
      "outputs": [
        {
          "output_type": "execute_result",
          "data": {
            "text/plain": [
              "Text(0, 0.5, 'd_ve/d_a')"
            ]
          },
          "metadata": {
            "tags": []
          },
          "execution_count": 7
        },
        {
          "output_type": "display_data",
          "data": {
            "image/png": "[encoded data removed]",
            "text/plain": [
              "<Figure size 432x288 with 1 Axes>"
            ]
          },
          "metadata": {
            "tags": [],
            "needs_background": "light"
          }
        }
      ]
    },
    {
      "cell_type": "code",
      "metadata": {
        "id": "rrv-wUG4XzyX",
        "colab_type": "code",
        "colab": {}
      },
      "source": [
        ""
      ],
      "execution_count": 0,
      "outputs": []
    },
    {
      "cell_type": "markdown",
      "metadata": {
        "colab_type": "text",
        "id": "FDI2qQKyaHzZ"
      },
      "source": [
        "# Glucose"
      ]
    },
    {
      "cell_type": "code",
      "metadata": {
        "colab_type": "code",
        "id": "PoLRyt8SaHza",
        "colab": {}
      },
      "source": [
        "chi = 1.03; # for NaCl\n",
        "rho = 1.54; #g/mL for NaCl"
      ],
      "execution_count": 0,
      "outputs": []
    },
    {
      "cell_type": "code",
      "metadata": {
        "colab_type": "code",
        "outputId": "7c938728-67fc-41e8-ef45-a1a5e445b5b5",
        "id": "z3povEGJaHzd",
        "colab": {
          "base_uri": "https://localhost:8080/",
          "height": 51
        }
      },
      "source": [
        "df_dve = pd.DataFrame([dict(d_m=d_m, d_ve=guess_d_ve(d_m, initial_estimate=d_m)[0]) for d_m in np.arange(.01, 3, .01)])\n",
        "p = np.polyfit(df_dve['d_m'], df_dve['d_ve'], 1)\n",
        "print(f'Line fitted: {p[0]}*d_ve + {p[1]}')\n",
        "\n",
        "df_da = pd.DataFrame([dict(d_m=d_m, d_a=guess_d_a(d_m, initial_estimate=d_m)[0]) for d_m in np.arange(.01, 3, .01)])\n",
        "p = np.polyfit(df_da['d_m'], df_da['d_a'], 1)\n",
        "print(f'Line fitted: {p[0]}*d_a + {p[1]}')"
      ],
      "execution_count": 9,
      "outputs": [
        {
          "output_type": "stream",
          "text": [
            "Line fitted: 0.971605850699996*d_ve + 0.0023264293013242807\n",
            "Line fitted: 1.1888477631324976*d_a + 0.017708866113764394\n"
          ],
          "name": "stdout"
        }
      ]
    },
    {
      "cell_type": "code",
      "metadata": {
        "colab_type": "code",
        "outputId": "b4bb8c65-625e-411b-ec52-c4fb0a056574",
        "id": "z_MQTmaYaHzf",
        "colab": {
          "base_uri": "https://localhost:8080/",
          "height": 301
        }
      },
      "source": [
        "ax = df_dve.plot('d_m', 'd_ve', marker='.', ls='', color='C1', legend='d_ve')\n",
        "df_da.plot('d_m', 'd_a', marker='.', ls='', color='C2', legend='d_a', ax=ax)\n",
        "plt.plot([0, 3], [0,3], label='y=x')\n",
        "plt.legend()\n",
        "plt.xlim(0, 3)\n",
        "plt.ylim(0, 3)\n",
        "plt.ylabel('d_ve/d_a')"
      ],
      "execution_count": 10,
      "outputs": [
        {
          "output_type": "execute_result",
          "data": {
            "text/plain": [
              "Text(0, 0.5, 'd_ve/d_a')"
            ]
          },
          "metadata": {
            "tags": []
          },
          "execution_count": 10
        },
        {
          "output_type": "display_data",
          "data": {
            "image/png": "[encoded data removed]",
            "text/plain": [
              "<Figure size 432x288 with 1 Axes>"
            ]
          },
          "metadata": {
            "tags": [],
            "needs_background": "light"
          }
        }
      ]
    },
    {
      "cell_type": "markdown",
      "metadata": {
        "colab_type": "text",
        "id": "sJOeyKKcaVRB"
      },
      "source": [
        "# Toy example"
      ]
    },
    {
      "cell_type": "code",
      "metadata": {
        "colab_type": "code",
        "id": "pOw4HmtfaVRC",
        "cellView": "both",
        "colab": {}
      },
      "source": [
        "chi = 1\n",
        "rho = 1.54; #g/mL for NaCl"
      ],
      "execution_count": 0,
      "outputs": []
    },
    {
      "cell_type": "code",
      "metadata": {
        "colab_type": "code",
        "outputId": "bdb6fcde-b1e5-4921-99ce-4255b5de56dd",
        "id": "TIvCt2f2aVRG",
        "colab": {
          "base_uri": "https://localhost:8080/",
          "height": 51
        }
      },
      "source": [
        "df_dve = pd.DataFrame([dict(d_m=d_m, d_ve=guess_d_ve(d_m, initial_estimate=d_m)[0]) for d_m in np.arange(.01, 3, .01)])\n",
        "p = np.polyfit(df_dve['d_m'], df_dve['d_ve'], 1)\n",
        "print(f'Line fitted: {p[0]}*d_ve + {p[1]}')\n",
        "\n",
        "df_da = pd.DataFrame([dict(d_m=d_m, d_a=guess_d_a(d_m, initial_estimate=d_m)[0]) for d_m in np.arange(.01, 3, .01)])\n",
        "p = np.polyfit(df_da['d_m'], df_da['d_a'], 1)\n",
        "print(f'Line fitted: {p[0]}*d_a + {p[1]}')"
      ],
      "execution_count": 12,
      "outputs": [
        {
          "output_type": "stream",
          "text": [
            "Line fitted: 0.9999999999999998*d_ve + 1.3543652491608531e-17\n",
            "Line fitted: 1.2418307007241847*d_a + 0.016115082611981937\n"
          ],
          "name": "stdout"
        }
      ]
    },
    {
      "cell_type": "code",
      "metadata": {
        "colab_type": "code",
        "outputId": "5f25d1dd-6562-448f-9f3d-3159b66b0d09",
        "id": "gnoObZPAaVRK",
        "colab": {
          "base_uri": "https://localhost:8080/",
          "height": 301
        }
      },
      "source": [
        "ax = df_dve.plot('d_m', 'd_ve', color='C1', legend='d_ve')\n",
        "df_da.plot('d_m', 'd_a', color='C2', legend='d_a', ax=ax)\n",
        "plt.plot([0, 3], [0,3], label='y=x')\n",
        "plt.plot([0, 3], [0, 3*np.sqrt(rho)], color='C3', label='d_a of perfect sphere', ls=':')\n",
        "plt.legend()\n",
        "plt.xlim(0, 3)\n",
        "plt.ylim(0, 3)\n",
        "plt.ylabel('d_ve/d_a')"
      ],
      "execution_count": 13,
      "outputs": [
        {
          "output_type": "execute_result",
          "data": {
            "text/plain": [
              "Text(0, 0.5, 'd_ve/d_a')"
            ]
          },
          "metadata": {
            "tags": []
          },
          "execution_count": 13
        },
        {
          "output_type": "display_data",
          "data": {
            "image/png": "[encoded data removed]",
            "text/plain": [
              "<Figure size 432x288 with 1 Axes>"
            ]
          },
          "metadata": {
            "tags": [],
            "needs_background": "light"
          }
        }
      ]
    },
    {
      "cell_type": "code",
      "metadata": {
        "id": "PfhGa8IQbbWC",
        "colab_type": "code",
        "colab": {}
      },
      "source": [
        ""
      ],
      "execution_count": 0,
      "outputs": []
    }
  ]
}